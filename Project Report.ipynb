{
 "cells": [
  {
   "cell_type": "code",
   "execution_count": 1,
   "id": "5db02743-ccb4-450a-869f-fbd7b59b1b9b",
   "metadata": {},
   "outputs": [
    {
     "name": "stderr",
     "output_type": "stream",
     "text": [
      "── \u001b[1mAttaching packages\u001b[22m ─────────────────────────────────────── tidyverse 1.3.1 ──\n",
      "\n",
      "\u001b[32m✔\u001b[39m \u001b[34mggplot2\u001b[39m 3.3.6     \u001b[32m✔\u001b[39m \u001b[34mpurrr  \u001b[39m 0.3.4\n",
      "\u001b[32m✔\u001b[39m \u001b[34mtibble \u001b[39m 3.1.7     \u001b[32m✔\u001b[39m \u001b[34mdplyr  \u001b[39m 1.0.9\n",
      "\u001b[32m✔\u001b[39m \u001b[34mtidyr  \u001b[39m 1.2.0     \u001b[32m✔\u001b[39m \u001b[34mstringr\u001b[39m 1.4.0\n",
      "\u001b[32m✔\u001b[39m \u001b[34mreadr  \u001b[39m 2.1.2     \u001b[32m✔\u001b[39m \u001b[34mforcats\u001b[39m 0.5.1\n",
      "\n",
      "── \u001b[1mConflicts\u001b[22m ────────────────────────────────────────── tidyverse_conflicts() ──\n",
      "\u001b[31m✖\u001b[39m \u001b[34mdplyr\u001b[39m::\u001b[32mfilter()\u001b[39m masks \u001b[34mstats\u001b[39m::filter()\n",
      "\u001b[31m✖\u001b[39m \u001b[34mdplyr\u001b[39m::\u001b[32mlag()\u001b[39m    masks \u001b[34mstats\u001b[39m::lag()\n",
      "\n",
      "── \u001b[1mAttaching packages\u001b[22m ────────────────────────────────────── tidymodels 1.0.0 ──\n",
      "\n",
      "\u001b[32m✔\u001b[39m \u001b[34mbroom       \u001b[39m 1.0.0     \u001b[32m✔\u001b[39m \u001b[34mrsample     \u001b[39m 1.0.0\n",
      "\u001b[32m✔\u001b[39m \u001b[34mdials       \u001b[39m 1.0.0     \u001b[32m✔\u001b[39m \u001b[34mtune        \u001b[39m 1.0.0\n",
      "\u001b[32m✔\u001b[39m \u001b[34minfer       \u001b[39m 1.0.2     \u001b[32m✔\u001b[39m \u001b[34mworkflows   \u001b[39m 1.0.0\n",
      "\u001b[32m✔\u001b[39m \u001b[34mmodeldata   \u001b[39m 1.0.0     \u001b[32m✔\u001b[39m \u001b[34mworkflowsets\u001b[39m 1.0.0\n",
      "\u001b[32m✔\u001b[39m \u001b[34mparsnip     \u001b[39m 1.0.0     \u001b[32m✔\u001b[39m \u001b[34myardstick   \u001b[39m 1.0.0\n",
      "\u001b[32m✔\u001b[39m \u001b[34mrecipes     \u001b[39m 1.0.1     \n",
      "\n",
      "── \u001b[1mConflicts\u001b[22m ───────────────────────────────────────── tidymodels_conflicts() ──\n",
      "\u001b[31m✖\u001b[39m \u001b[34mscales\u001b[39m::\u001b[32mdiscard()\u001b[39m masks \u001b[34mpurrr\u001b[39m::discard()\n",
      "\u001b[31m✖\u001b[39m \u001b[34mdplyr\u001b[39m::\u001b[32mfilter()\u001b[39m   masks \u001b[34mstats\u001b[39m::filter()\n",
      "\u001b[31m✖\u001b[39m \u001b[34mrecipes\u001b[39m::\u001b[32mfixed()\u001b[39m  masks \u001b[34mstringr\u001b[39m::fixed()\n",
      "\u001b[31m✖\u001b[39m \u001b[34mdplyr\u001b[39m::\u001b[32mlag()\u001b[39m      masks \u001b[34mstats\u001b[39m::lag()\n",
      "\u001b[31m✖\u001b[39m \u001b[34myardstick\u001b[39m::\u001b[32mspec()\u001b[39m masks \u001b[34mreadr\u001b[39m::spec()\n",
      "\u001b[31m✖\u001b[39m \u001b[34mrecipes\u001b[39m::\u001b[32mstep()\u001b[39m   masks \u001b[34mstats\u001b[39m::step()\n",
      "\u001b[34m•\u001b[39m Learn how to get started at \u001b[32mhttps://www.tidymodels.org/start/\u001b[39m\n",
      "\n"
     ]
    }
   ],
   "source": [
    "library(tidyverse)\n",
    "library(repr)\n",
    "library(tidymodels)\n",
    "library(digest)\n",
    "options(repr.matrix.max.rows = 6)\n",
    "#source(\"tests.R\")\n",
    "#source(\"cleanup.R\")"
   ]
  },
  {
   "cell_type": "code",
   "execution_count": 2,
   "id": "a0fdcb18-0f9c-41f3-8aa7-f9ac6527dc1b",
   "metadata": {},
   "outputs": [
    {
     "name": "stderr",
     "output_type": "stream",
     "text": [
      "\u001b[1m\u001b[22mNew names:\n",
      "\u001b[36m•\u001b[39m `` -> `...1`\n",
      "\u001b[1mRows: \u001b[22m\u001b[34m500\u001b[39m \u001b[1mColumns: \u001b[22m\u001b[34m38\u001b[39m\n",
      "\u001b[36m──\u001b[39m \u001b[1mColumn specification\u001b[22m \u001b[36m────────────────────────────────────────────────────────\u001b[39m\n",
      "\u001b[1mDelimiter:\u001b[22m \",\"\n",
      "\u001b[31mchr\u001b[39m (25): Age, Country, Plays, Wikipedia, Current Rank, Best Rank, Name, Bac...\n",
      "\u001b[32mdbl\u001b[39m (13): ...1, Turned Pro, Seasons, Titles, Best Season, Retired, Masters, ...\n",
      "\n",
      "\u001b[36mℹ\u001b[39m Use `spec()` to retrieve the full column specification for this data.\n",
      "\u001b[36mℹ\u001b[39m Specify the column types or set `show_col_types = FALSE` to quiet this message.\n"
     ]
    },
    {
     "data": {
      "text/html": [
       "<table class=\"dataframe\">\n",
       "<caption>A spec_tbl_df: 500 × 38</caption>\n",
       "<thead>\n",
       "\t<tr><th scope=col>...1</th><th scope=col>Age</th><th scope=col>Country</th><th scope=col>Plays</th><th scope=col>Wikipedia</th><th scope=col>Current Rank</th><th scope=col>Best Rank</th><th scope=col>Name</th><th scope=col>Backhand</th><th scope=col>Prize Money</th><th scope=col>⋯</th><th scope=col>Facebook</th><th scope=col>Twitter</th><th scope=col>Nicknames</th><th scope=col>Grand Slams</th><th scope=col>Davis Cups</th><th scope=col>Web Site</th><th scope=col>Team Cups</th><th scope=col>Olympics</th><th scope=col>Weeks at No. 1</th><th scope=col>Tour Finals</th></tr>\n",
       "\t<tr><th scope=col>&lt;dbl&gt;</th><th scope=col>&lt;chr&gt;</th><th scope=col>&lt;chr&gt;</th><th scope=col>&lt;chr&gt;</th><th scope=col>&lt;chr&gt;</th><th scope=col>&lt;chr&gt;</th><th scope=col>&lt;chr&gt;</th><th scope=col>&lt;chr&gt;</th><th scope=col>&lt;chr&gt;</th><th scope=col>&lt;chr&gt;</th><th scope=col>⋯</th><th scope=col>&lt;chr&gt;</th><th scope=col>&lt;chr&gt;</th><th scope=col>&lt;chr&gt;</th><th scope=col>&lt;dbl&gt;</th><th scope=col>&lt;dbl&gt;</th><th scope=col>&lt;chr&gt;</th><th scope=col>&lt;dbl&gt;</th><th scope=col>&lt;dbl&gt;</th><th scope=col>&lt;dbl&gt;</th><th scope=col>&lt;dbl&gt;</th></tr>\n",
       "</thead>\n",
       "<tbody>\n",
       "\t<tr><td>0</td><td>26 (25-04-1993)</td><td>Brazil        </td><td>Right-handed</td><td>Wikipedia</td><td>378 (97) </td><td>363 (04-11-2019)</td><td>Oscar Jose Gutierrez</td><td>NA        </td><td>NA          </td><td>⋯</td><td>NA</td><td>NA</td><td>NA</td><td>NA</td><td>NA</td><td>NA</td><td>NA</td><td>NA</td><td>NA</td><td>NA</td></tr>\n",
       "\t<tr><td>1</td><td>18 (22-12-2001)</td><td>United Kingdom</td><td>Left-handed </td><td>Wikipedia</td><td>326 (119)</td><td>316 (14-10-2019)</td><td>Jack Draper         </td><td>Two-handed</td><td>$59,040     </td><td>⋯</td><td>NA</td><td>NA</td><td>NA</td><td>NA</td><td>NA</td><td>NA</td><td>NA</td><td>NA</td><td>NA</td><td>NA</td></tr>\n",
       "\t<tr><td>2</td><td>32 (03-11-1987)</td><td>Slovakia      </td><td>Right-handed</td><td>Wikipedia</td><td>178 (280)</td><td>44 (14-01-2013) </td><td>Lukas Lacko         </td><td>Two-handed</td><td>US$3,261,567</td><td>⋯</td><td>NA</td><td>NA</td><td>NA</td><td>NA</td><td>NA</td><td>NA</td><td>NA</td><td>NA</td><td>NA</td><td>NA</td></tr>\n",
       "\t<tr><td>⋮</td><td>⋮</td><td>⋮</td><td>⋮</td><td>⋮</td><td>⋮</td><td>⋮</td><td>⋮</td><td>⋮</td><td>⋮</td><td>⋱</td><td>⋮</td><td>⋮</td><td>⋮</td><td>⋮</td><td>⋮</td><td>⋮</td><td>⋮</td><td>⋮</td><td>⋮</td><td>⋮</td></tr>\n",
       "\t<tr><td>497</td><td>23 (14-03-1996)</td><td>Netherlands</td><td>Left-handed</td><td>Wikipedia</td><td>495 (60)</td><td>342 (05-08-2019)</td><td>Gijs Brouwer   </td><td>NA        </td><td>NA     </td><td>⋯</td><td>NA</td><td>NA</td><td>NA</td><td>NA</td><td>NA</td><td>NA</td><td>NA</td><td>NA</td><td>NA</td><td>NA</td></tr>\n",
       "\t<tr><td>498</td><td>24 (17-05-1995)</td><td>Ukraine    </td><td>NA         </td><td>Wikipedia</td><td>419 (81)</td><td>419 (20-01-2020)</td><td>Vladyslav Orlov</td><td>NA        </td><td>NA     </td><td>⋯</td><td>NA</td><td>NA</td><td>NA</td><td>NA</td><td>NA</td><td>NA</td><td>NA</td><td>NA</td><td>NA</td><td>NA</td></tr>\n",
       "\t<tr><td>499</td><td>22 (26-03-1997)</td><td>Tunisia    </td><td>Left-handed</td><td>Wikipedia</td><td>451 (69)</td><td>408 (24-12-2018)</td><td>Aziz Dougaz    </td><td>Two-handed</td><td>$61,984</td><td>⋯</td><td>NA</td><td>NA</td><td>NA</td><td>NA</td><td>NA</td><td>NA</td><td>NA</td><td>NA</td><td>NA</td><td>NA</td></tr>\n",
       "</tbody>\n",
       "</table>\n"
      ],
      "text/latex": [
       "A spec\\_tbl\\_df: 500 × 38\n",
       "\\begin{tabular}{lllllllllllllllllllll}\n",
       " ...1 & Age & Country & Plays & Wikipedia & Current Rank & Best Rank & Name & Backhand & Prize Money & ⋯ & Facebook & Twitter & Nicknames & Grand Slams & Davis Cups & Web Site & Team Cups & Olympics & Weeks at No. 1 & Tour Finals\\\\\n",
       " <dbl> & <chr> & <chr> & <chr> & <chr> & <chr> & <chr> & <chr> & <chr> & <chr> & ⋯ & <chr> & <chr> & <chr> & <dbl> & <dbl> & <chr> & <dbl> & <dbl> & <dbl> & <dbl>\\\\\n",
       "\\hline\n",
       "\t 0 & 26 (25-04-1993) & Brazil         & Right-handed & Wikipedia & 378 (97)  & 363 (04-11-2019) & Oscar Jose Gutierrez & NA         & NA           & ⋯ & NA & NA & NA & NA & NA & NA & NA & NA & NA & NA\\\\\n",
       "\t 1 & 18 (22-12-2001) & United Kingdom & Left-handed  & Wikipedia & 326 (119) & 316 (14-10-2019) & Jack Draper          & Two-handed & \\$59,040      & ⋯ & NA & NA & NA & NA & NA & NA & NA & NA & NA & NA\\\\\n",
       "\t 2 & 32 (03-11-1987) & Slovakia       & Right-handed & Wikipedia & 178 (280) & 44 (14-01-2013)  & Lukas Lacko          & Two-handed & US\\$3,261,567 & ⋯ & NA & NA & NA & NA & NA & NA & NA & NA & NA & NA\\\\\n",
       "\t ⋮ & ⋮ & ⋮ & ⋮ & ⋮ & ⋮ & ⋮ & ⋮ & ⋮ & ⋮ & ⋱ & ⋮ & ⋮ & ⋮ & ⋮ & ⋮ & ⋮ & ⋮ & ⋮ & ⋮ & ⋮\\\\\n",
       "\t 497 & 23 (14-03-1996) & Netherlands & Left-handed & Wikipedia & 495 (60) & 342 (05-08-2019) & Gijs Brouwer    & NA         & NA      & ⋯ & NA & NA & NA & NA & NA & NA & NA & NA & NA & NA\\\\\n",
       "\t 498 & 24 (17-05-1995) & Ukraine     & NA          & Wikipedia & 419 (81) & 419 (20-01-2020) & Vladyslav Orlov & NA         & NA      & ⋯ & NA & NA & NA & NA & NA & NA & NA & NA & NA & NA\\\\\n",
       "\t 499 & 22 (26-03-1997) & Tunisia     & Left-handed & Wikipedia & 451 (69) & 408 (24-12-2018) & Aziz Dougaz     & Two-handed & \\$61,984 & ⋯ & NA & NA & NA & NA & NA & NA & NA & NA & NA & NA\\\\\n",
       "\\end{tabular}\n"
      ],
      "text/markdown": [
       "\n",
       "A spec_tbl_df: 500 × 38\n",
       "\n",
       "| ...1 &lt;dbl&gt; | Age &lt;chr&gt; | Country &lt;chr&gt; | Plays &lt;chr&gt; | Wikipedia &lt;chr&gt; | Current Rank &lt;chr&gt; | Best Rank &lt;chr&gt; | Name &lt;chr&gt; | Backhand &lt;chr&gt; | Prize Money &lt;chr&gt; | ⋯ ⋯ | Facebook &lt;chr&gt; | Twitter &lt;chr&gt; | Nicknames &lt;chr&gt; | Grand Slams &lt;dbl&gt; | Davis Cups &lt;dbl&gt; | Web Site &lt;chr&gt; | Team Cups &lt;dbl&gt; | Olympics &lt;dbl&gt; | Weeks at No. 1 &lt;dbl&gt; | Tour Finals &lt;dbl&gt; |\n",
       "|---|---|---|---|---|---|---|---|---|---|---|---|---|---|---|---|---|---|---|---|---|\n",
       "| 0 | 26 (25-04-1993) | Brazil         | Right-handed | Wikipedia | 378 (97)  | 363 (04-11-2019) | Oscar Jose Gutierrez | NA         | NA           | ⋯ | NA | NA | NA | NA | NA | NA | NA | NA | NA | NA |\n",
       "| 1 | 18 (22-12-2001) | United Kingdom | Left-handed  | Wikipedia | 326 (119) | 316 (14-10-2019) | Jack Draper          | Two-handed | $59,040      | ⋯ | NA | NA | NA | NA | NA | NA | NA | NA | NA | NA |\n",
       "| 2 | 32 (03-11-1987) | Slovakia       | Right-handed | Wikipedia | 178 (280) | 44 (14-01-2013)  | Lukas Lacko          | Two-handed | US$3,261,567 | ⋯ | NA | NA | NA | NA | NA | NA | NA | NA | NA | NA |\n",
       "| ⋮ | ⋮ | ⋮ | ⋮ | ⋮ | ⋮ | ⋮ | ⋮ | ⋮ | ⋮ | ⋱ | ⋮ | ⋮ | ⋮ | ⋮ | ⋮ | ⋮ | ⋮ | ⋮ | ⋮ | ⋮ |\n",
       "| 497 | 23 (14-03-1996) | Netherlands | Left-handed | Wikipedia | 495 (60) | 342 (05-08-2019) | Gijs Brouwer    | NA         | NA      | ⋯ | NA | NA | NA | NA | NA | NA | NA | NA | NA | NA |\n",
       "| 498 | 24 (17-05-1995) | Ukraine     | NA          | Wikipedia | 419 (81) | 419 (20-01-2020) | Vladyslav Orlov | NA         | NA      | ⋯ | NA | NA | NA | NA | NA | NA | NA | NA | NA | NA |\n",
       "| 499 | 22 (26-03-1997) | Tunisia     | Left-handed | Wikipedia | 451 (69) | 408 (24-12-2018) | Aziz Dougaz     | Two-handed | $61,984 | ⋯ | NA | NA | NA | NA | NA | NA | NA | NA | NA | NA |\n",
       "\n"
      ],
      "text/plain": [
       "    ...1 Age             Country        Plays        Wikipedia Current Rank\n",
       "1   0    26 (25-04-1993) Brazil         Right-handed Wikipedia 378 (97)    \n",
       "2   1    18 (22-12-2001) United Kingdom Left-handed  Wikipedia 326 (119)   \n",
       "3   2    32 (03-11-1987) Slovakia       Right-handed Wikipedia 178 (280)   \n",
       "⋮   ⋮    ⋮               ⋮              ⋮            ⋮         ⋮           \n",
       "498 497  23 (14-03-1996) Netherlands    Left-handed  Wikipedia 495 (60)    \n",
       "499 498  24 (17-05-1995) Ukraine        NA           Wikipedia 419 (81)    \n",
       "500 499  22 (26-03-1997) Tunisia        Left-handed  Wikipedia 451 (69)    \n",
       "    Best Rank        Name                 Backhand   Prize Money  ⋯ Facebook\n",
       "1   363 (04-11-2019) Oscar Jose Gutierrez NA         NA           ⋯ NA      \n",
       "2   316 (14-10-2019) Jack Draper          Two-handed $59,040      ⋯ NA      \n",
       "3   44 (14-01-2013)  Lukas Lacko          Two-handed US$3,261,567 ⋯ NA      \n",
       "⋮   ⋮                ⋮                    ⋮          ⋮            ⋱ ⋮       \n",
       "498 342 (05-08-2019) Gijs Brouwer         NA         NA           ⋯ NA      \n",
       "499 419 (20-01-2020) Vladyslav Orlov      NA         NA           ⋯ NA      \n",
       "500 408 (24-12-2018) Aziz Dougaz          Two-handed $61,984      ⋯ NA      \n",
       "    Twitter Nicknames Grand Slams Davis Cups Web Site Team Cups Olympics\n",
       "1   NA      NA        NA          NA         NA       NA        NA      \n",
       "2   NA      NA        NA          NA         NA       NA        NA      \n",
       "3   NA      NA        NA          NA         NA       NA        NA      \n",
       "⋮   ⋮       ⋮         ⋮           ⋮          ⋮        ⋮         ⋮       \n",
       "498 NA      NA        NA          NA         NA       NA        NA      \n",
       "499 NA      NA        NA          NA         NA       NA        NA      \n",
       "500 NA      NA        NA          NA         NA       NA        NA      \n",
       "    Weeks at No. 1 Tour Finals\n",
       "1   NA             NA         \n",
       "2   NA             NA         \n",
       "3   NA             NA         \n",
       "⋮   ⋮              ⋮          \n",
       "498 NA             NA         \n",
       "499 NA             NA         \n",
       "500 NA             NA         "
      ]
     },
     "metadata": {},
     "output_type": "display_data"
    }
   ],
   "source": [
    "player_stats <- read_csv(\"https://drive.google.com/uc?export=download&id=1_MECmUXZuuILYeEOfonSGqodW6qVdhsS\")\n",
    "player_stats"
   ]
  },
  {
   "cell_type": "code",
   "execution_count": 3,
   "id": "3b274fa5-45b2-4868-aa77-1fce6bfac53b",
   "metadata": {},
   "outputs": [
    {
     "name": "stderr",
     "output_type": "stream",
     "text": [
      "Warning message:\n",
      "“Expected 4 pieces. Additional pieces discarded in 499 rows [1, 2, 3, 4, 5, 6, 7, 8, 9, 10, 11, 12, 13, 14, 15, 16, 17, 18, 19, 20, ...].”\n",
      "Warning message:\n",
      "“Expected 4 pieces. Additional pieces discarded in 499 rows [1, 2, 3, 4, 5, 6, 7, 8, 9, 10, 11, 12, 13, 14, 15, 16, 17, 18, 19, 20, ...].”\n",
      "Warning message:\n",
      "“Expected 4 pieces. Additional pieces discarded in 21 rows [16, 96, 128, 142, 208, 212, 228, 267, 274, 337, 363, 364, 381, 394, 414, 423, 435, 436, 461, 468, ...].”\n",
      "Warning message:\n",
      "“Expected 4 pieces. Missing pieces filled with `NA` in 264 rows [2, 4, 7, 8, 9, 10, 13, 14, 15, 18, 23, 24, 25, 26, 27, 28, 31, 32, 33, 34, ...].”\n"
     ]
    },
    {
     "data": {
      "text/html": [
       "<table class=\"dataframe\">\n",
       "<caption>A tibble: 155 × 2</caption>\n",
       "<thead>\n",
       "\t<tr><th scope=col>prize_money</th><th scope=col>best_rank</th></tr>\n",
       "\t<tr><th scope=col>&lt;dbl&gt;</th><th scope=col>&lt;int&gt;</th></tr>\n",
       "</thead>\n",
       "<tbody>\n",
       "\t<tr><td>3261.567</td><td>44</td></tr>\n",
       "\t<tr><td>6091.971</td><td>17</td></tr>\n",
       "\t<tr><td>1517.157</td><td>31</td></tr>\n",
       "\t<tr><td>⋮</td><td>⋮</td></tr>\n",
       "\t<tr><td> 1703.096</td><td>58</td></tr>\n",
       "\t<tr><td> 1048.314</td><td>74</td></tr>\n",
       "\t<tr><td>22132.368</td><td> 4</td></tr>\n",
       "</tbody>\n",
       "</table>\n"
      ],
      "text/latex": [
       "A tibble: 155 × 2\n",
       "\\begin{tabular}{ll}\n",
       " prize\\_money & best\\_rank\\\\\n",
       " <dbl> & <int>\\\\\n",
       "\\hline\n",
       "\t 3261.567 & 44\\\\\n",
       "\t 6091.971 & 17\\\\\n",
       "\t 1517.157 & 31\\\\\n",
       "\t ⋮ & ⋮\\\\\n",
       "\t  1703.096 & 58\\\\\n",
       "\t  1048.314 & 74\\\\\n",
       "\t 22132.368 &  4\\\\\n",
       "\\end{tabular}\n"
      ],
      "text/markdown": [
       "\n",
       "A tibble: 155 × 2\n",
       "\n",
       "| prize_money &lt;dbl&gt; | best_rank &lt;int&gt; |\n",
       "|---|---|\n",
       "| 3261.567 | 44 |\n",
       "| 6091.971 | 17 |\n",
       "| 1517.157 | 31 |\n",
       "| ⋮ | ⋮ |\n",
       "|  1703.096 | 58 |\n",
       "|  1048.314 | 74 |\n",
       "| 22132.368 |  4 |\n",
       "\n"
      ],
      "text/plain": [
       "    prize_money best_rank\n",
       "1   3261.567    44       \n",
       "2   6091.971    17       \n",
       "3   1517.157    31       \n",
       "⋮   ⋮           ⋮        \n",
       "153  1703.096   58       \n",
       "154  1048.314   74       \n",
       "155 22132.368    4       "
      ]
     },
     "metadata": {},
     "output_type": "display_data"
    }
   ],
   "source": [
    "# tidying data/renaming Turned Pro\n",
    "\n",
    "players_tidy <- player_stats|>\n",
    "    select(Age, \"Best Rank\", \"Turned Pro\", \"Prize Money\")|>\n",
    "    separate(col = \"Age\",\n",
    "             into = c(\"Age\", \"Birthday\",\"Birth_month\", \"Birth_year\"),\n",
    "             convert = TRUE) |>\n",
    "    separate(col = \"Best Rank\",\n",
    "             into = c(\"best_rank\", \n",
    "                   \"Best_rank_day\", \"Best_rank_month\", \"Best_rank_year\"),\n",
    "            convert = TRUE) |>\n",
    "    select(-Birth_month, -Birthday, -Best_rank_day, -Best_rank_month) |>\n",
    "    separate(col = \"Turned Pro\",\n",
    "             into = \"turned_pro\")|>\n",
    "    mutate(turned_pro = as.numeric(turned_pro))|>\n",
    "    mutate(pro_duration = Best_rank_year - turned_pro)|>\n",
    "    mutate(turned_pro_age = turned_pro - Birth_year)|>\n",
    "    rename(\"prize_money\" = \"Prize Money\")|>\n",
    "    separate(prize_money, c(NA, \"millions\", \"thousands\", \"hundreds\"))|>\n",
    "    mutate(millions = as.numeric(millions))|>\n",
    "    mutate(thousands = as.numeric(thousands))|>\n",
    "    mutate(hundreds = as.numeric(hundreds))|>\n",
    "    mutate(millions = millions * 1000000)|>\n",
    "    mutate(thousands = thousands * 1000)|>\n",
    "    mutate(prize_money = millions + thousands + hundreds)|>\n",
    "    mutate(prize_money= prize_money/1000)|>\n",
    "    select(prize_money, best_rank)|>\n",
    "    na.omit()\n",
    "players_tidy\n"
   ]
  },
  {
   "cell_type": "code",
   "execution_count": 4,
   "id": "eb450746-aa41-4608-ae22-658ea7a23a2a",
   "metadata": {},
   "outputs": [],
   "source": [
    "# setting seed\n",
    "set.seed(1552)"
   ]
  },
  {
   "cell_type": "code",
   "execution_count": 5,
   "id": "6a1cf040-2217-4a8c-a2ef-ebc039b194d9",
   "metadata": {},
   "outputs": [
    {
     "name": "stderr",
     "output_type": "stream",
     "text": [
      "Warning message:\n",
      "“Removed 4 rows containing missing values (geom_point).”\n"
     ]
    },
    {
     "data": {
      "image/png": "[encoded data removed]",
      "text/plain": [
       "plot without title"
      ]
     },
     "metadata": {
      "image/png": {
       "height": 600,
       "width": 900
      }
     },
     "output_type": "display_data"
    }
   ],
   "source": [
    "#scatterplot best rank vs. prize money\n",
    "\n",
    "options(repr.plot.width = 15, repr.plot.height = 10)\n",
    "\n",
    "players_plot<-players_tidy|>\n",
    "    ggplot(aes(x = best_rank, y = prize_money))+\n",
    "    geom_point()+\n",
    "    labs(x = \"Best Rank\", y = \"Prize Money (x $1000)\")+\n",
    "    ggtitle(\"Prize Money Related to a Players Best Rank\")+\n",
    "    ylim(0,40000)+\n",
    "    xlim(0,150)+\n",
    "    theme(text = element_text(size = 20))\n",
    "players_plot"
   ]
  },
  {
   "cell_type": "markdown",
   "id": "ded4acef-cc1f-4fef-ad4e-727559a369e1",
   "metadata": {},
   "source": [
    "K-NN Regression Model:"
   ]
  },
  {
   "cell_type": "code",
   "execution_count": 6,
   "id": "f531f1f7-7665-4885-9904-735483f35c8e",
   "metadata": {},
   "outputs": [
    {
     "data": {
      "text/html": [
       "<table class=\"dataframe\">\n",
       "<caption>A tibble: 115 × 2</caption>\n",
       "<thead>\n",
       "\t<tr><th scope=col>prize_money</th><th scope=col>best_rank</th></tr>\n",
       "\t<tr><th scope=col>&lt;dbl&gt;</th><th scope=col>&lt;int&gt;</th></tr>\n",
       "</thead>\n",
       "<tbody>\n",
       "\t<tr><td>1517.157</td><td>31</td></tr>\n",
       "\t<tr><td>1285.541</td><td>47</td></tr>\n",
       "\t<tr><td>1062.355</td><td>43</td></tr>\n",
       "\t<tr><td>⋮</td><td>⋮</td></tr>\n",
       "\t<tr><td>14773.644</td><td>6</td></tr>\n",
       "\t<tr><td> 8918.917</td><td>8</td></tr>\n",
       "\t<tr><td>22132.368</td><td>4</td></tr>\n",
       "</tbody>\n",
       "</table>\n"
      ],
      "text/latex": [
       "A tibble: 115 × 2\n",
       "\\begin{tabular}{ll}\n",
       " prize\\_money & best\\_rank\\\\\n",
       " <dbl> & <int>\\\\\n",
       "\\hline\n",
       "\t 1517.157 & 31\\\\\n",
       "\t 1285.541 & 47\\\\\n",
       "\t 1062.355 & 43\\\\\n",
       "\t ⋮ & ⋮\\\\\n",
       "\t 14773.644 & 6\\\\\n",
       "\t  8918.917 & 8\\\\\n",
       "\t 22132.368 & 4\\\\\n",
       "\\end{tabular}\n"
      ],
      "text/markdown": [
       "\n",
       "A tibble: 115 × 2\n",
       "\n",
       "| prize_money &lt;dbl&gt; | best_rank &lt;int&gt; |\n",
       "|---|---|\n",
       "| 1517.157 | 31 |\n",
       "| 1285.541 | 47 |\n",
       "| 1062.355 | 43 |\n",
       "| ⋮ | ⋮ |\n",
       "| 14773.644 | 6 |\n",
       "|  8918.917 | 8 |\n",
       "| 22132.368 | 4 |\n",
       "\n"
      ],
      "text/plain": [
       "    prize_money best_rank\n",
       "1   1517.157    31       \n",
       "2   1285.541    47       \n",
       "3   1062.355    43       \n",
       "⋮   ⋮           ⋮        \n",
       "113 14773.644   6        \n",
       "114  8918.917   8        \n",
       "115 22132.368   4        "
      ]
     },
     "metadata": {},
     "output_type": "display_data"
    },
    {
     "data": {
      "text/html": [
       "<table class=\"dataframe\">\n",
       "<caption>A tibble: 40 × 2</caption>\n",
       "<thead>\n",
       "\t<tr><th scope=col>prize_money</th><th scope=col>best_rank</th></tr>\n",
       "\t<tr><th scope=col>&lt;dbl&gt;</th><th scope=col>&lt;int&gt;</th></tr>\n",
       "</thead>\n",
       "<tbody>\n",
       "\t<tr><td>3261.567</td><td>44</td></tr>\n",
       "\t<tr><td>6091.971</td><td>17</td></tr>\n",
       "\t<tr><td>1893.476</td><td>17</td></tr>\n",
       "\t<tr><td>⋮</td><td>⋮</td></tr>\n",
       "\t<tr><td> 8480.383</td><td>19</td></tr>\n",
       "\t<tr><td>18879.855</td><td> 3</td></tr>\n",
       "\t<tr><td> 3304.117</td><td>29</td></tr>\n",
       "</tbody>\n",
       "</table>\n"
      ],
      "text/latex": [
       "A tibble: 40 × 2\n",
       "\\begin{tabular}{ll}\n",
       " prize\\_money & best\\_rank\\\\\n",
       " <dbl> & <int>\\\\\n",
       "\\hline\n",
       "\t 3261.567 & 44\\\\\n",
       "\t 6091.971 & 17\\\\\n",
       "\t 1893.476 & 17\\\\\n",
       "\t ⋮ & ⋮\\\\\n",
       "\t  8480.383 & 19\\\\\n",
       "\t 18879.855 &  3\\\\\n",
       "\t  3304.117 & 29\\\\\n",
       "\\end{tabular}\n"
      ],
      "text/markdown": [
       "\n",
       "A tibble: 40 × 2\n",
       "\n",
       "| prize_money &lt;dbl&gt; | best_rank &lt;int&gt; |\n",
       "|---|---|\n",
       "| 3261.567 | 44 |\n",
       "| 6091.971 | 17 |\n",
       "| 1893.476 | 17 |\n",
       "| ⋮ | ⋮ |\n",
       "|  8480.383 | 19 |\n",
       "| 18879.855 |  3 |\n",
       "|  3304.117 | 29 |\n",
       "\n"
      ],
      "text/plain": [
       "   prize_money best_rank\n",
       "1  3261.567    44       \n",
       "2  6091.971    17       \n",
       "3  1893.476    17       \n",
       "⋮  ⋮           ⋮        \n",
       "38  8480.383   19       \n",
       "39 18879.855    3       \n",
       "40  3304.117   29       "
      ]
     },
     "metadata": {},
     "output_type": "display_data"
    }
   ],
   "source": [
    "#splitting data\n",
    "\n",
    "\n",
    "players_split<-initial_split(players_tidy, prop = 0.75, strata = prize_money)\n",
    "players_training<-training(players_split)\n",
    "players_testing<-testing(players_split)\n",
    "players_training\n",
    "players_testing\n",
    "\n"
   ]
  },
  {
   "cell_type": "code",
   "execution_count": 7,
   "id": "f8783891-70d8-4655-942b-d5a840b83b30",
   "metadata": {},
   "outputs": [
    {
     "data": {
      "text/plain": [
       "Recipe\n",
       "\n",
       "Inputs:\n",
       "\n",
       "      role #variables\n",
       "   outcome          1\n",
       " predictor          1\n",
       "\n",
       "Operations:\n",
       "\n",
       "Scaling for all_predictors()\n",
       "Centering for all_predictors()"
      ]
     },
     "metadata": {},
     "output_type": "display_data"
    }
   ],
   "source": [
    "#making recipe\n",
    "\n",
    "players_spec<-nearest_neighbor(weight_func = \"rectangular\", neighbors = tune())|>\n",
    "    set_engine(\"kknn\")|>\n",
    "    set_mode(\"regression\")\n",
    "\n",
    "players_recipe<-recipe(prize_money ~ best_rank, data = players_training)|>\n",
    "    step_scale(all_predictors())|>\n",
    "    step_center(all_predictors())\n",
    "\n",
    "players_recipe\n"
   ]
  },
  {
   "cell_type": "code",
   "execution_count": 8,
   "id": "0823ce62-c454-404c-8d61-5e6d24f35308",
   "metadata": {},
   "outputs": [
    {
     "name": "stderr",
     "output_type": "stream",
     "text": [
      "Warning message:\n",
      "“tune samples were requested but there were 115 rows in the data. 110 will be used.”\n"
     ]
    },
    {
     "data": {
      "text/plain": [
       "══ Workflow [trained] ══════════════════════════════════════════════════════════\n",
       "\u001b[3mPreprocessor:\u001b[23m Recipe\n",
       "\u001b[3mModel:\u001b[23m nearest_neighbor()\n",
       "\n",
       "── Preprocessor ────────────────────────────────────────────────────────────────\n",
       "2 Recipe Steps\n",
       "\n",
       "• step_scale()\n",
       "• step_center()\n",
       "\n",
       "── Model ───────────────────────────────────────────────────────────────────────\n",
       "\n",
       "Call:\n",
       "kknn::train.kknn(formula = ..y ~ ., data = data, ks = min_rows(tune(),     data, 5), kernel = ~\"rectangular\")\n",
       "\n",
       "Type of response variable: continuous\n",
       "minimal mean absolute error: 9025.869\n",
       "Minimal mean squared error: 443466446\n",
       "Best kernel: rectangular\n",
       "Best k: 110"
      ]
     },
     "metadata": {},
     "output_type": "display_data"
    }
   ],
   "source": [
    "#making workflow\n",
    "\n",
    "players_vfold<-vfold_cv(players_training, v = 5, strata = prize_money)\n",
    "\n",
    "players_fit<-workflow()|>\n",
    "    add_recipe(players_recipe)|>\n",
    "    add_model(players_spec)|>\n",
    "    fit(players_training)\n",
    "players_fit\n",
    "\n"
   ]
  },
  {
   "cell_type": "code",
   "execution_count": 9,
   "id": "2393e978-4e3e-447d-8349-e04f000c2997",
   "metadata": {},
   "outputs": [
    {
     "data": {
      "text/html": [
       "<table class=\"dataframe\">\n",
       "<caption>A tibble: 100 × 7</caption>\n",
       "<thead>\n",
       "\t<tr><th scope=col>neighbors</th><th scope=col>.metric</th><th scope=col>.estimator</th><th scope=col>mean</th><th scope=col>n</th><th scope=col>std_err</th><th scope=col>.config</th></tr>\n",
       "\t<tr><th scope=col>&lt;int&gt;</th><th scope=col>&lt;chr&gt;</th><th scope=col>&lt;chr&gt;</th><th scope=col>&lt;dbl&gt;</th><th scope=col>&lt;int&gt;</th><th scope=col>&lt;dbl&gt;</th><th scope=col>&lt;chr&gt;</th></tr>\n",
       "</thead>\n",
       "<tbody>\n",
       "\t<tr><td>1</td><td>rmse</td><td>standard</td><td>6409.9458990</td><td>5</td><td>1.971516e+03</td><td>Preprocessor1_Model01</td></tr>\n",
       "\t<tr><td>1</td><td>rsq </td><td>standard</td><td>   0.7759743</td><td>5</td><td>9.880043e-02</td><td>Preprocessor1_Model01</td></tr>\n",
       "\t<tr><td>2</td><td>rmse</td><td>standard</td><td>6471.9870691</td><td>5</td><td>2.154208e+03</td><td>Preprocessor1_Model02</td></tr>\n",
       "\t<tr><td>⋮</td><td>⋮</td><td>⋮</td><td>⋮</td><td>⋮</td><td>⋮</td><td>⋮</td></tr>\n",
       "\t<tr><td>49</td><td>rsq </td><td>standard</td><td>3.514544e-01</td><td>5</td><td>8.330297e-02</td><td>Preprocessor1_Model49</td></tr>\n",
       "\t<tr><td>50</td><td>rmse</td><td>standard</td><td>1.715247e+04</td><td>5</td><td>5.236844e+03</td><td>Preprocessor1_Model50</td></tr>\n",
       "\t<tr><td>50</td><td>rsq </td><td>standard</td><td>3.531760e-01</td><td>5</td><td>8.479045e-02</td><td>Preprocessor1_Model50</td></tr>\n",
       "</tbody>\n",
       "</table>\n"
      ],
      "text/latex": [
       "A tibble: 100 × 7\n",
       "\\begin{tabular}{lllllll}\n",
       " neighbors & .metric & .estimator & mean & n & std\\_err & .config\\\\\n",
       " <int> & <chr> & <chr> & <dbl> & <int> & <dbl> & <chr>\\\\\n",
       "\\hline\n",
       "\t 1 & rmse & standard & 6409.9458990 & 5 & 1.971516e+03 & Preprocessor1\\_Model01\\\\\n",
       "\t 1 & rsq  & standard &    0.7759743 & 5 & 9.880043e-02 & Preprocessor1\\_Model01\\\\\n",
       "\t 2 & rmse & standard & 6471.9870691 & 5 & 2.154208e+03 & Preprocessor1\\_Model02\\\\\n",
       "\t ⋮ & ⋮ & ⋮ & ⋮ & ⋮ & ⋮ & ⋮\\\\\n",
       "\t 49 & rsq  & standard & 3.514544e-01 & 5 & 8.330297e-02 & Preprocessor1\\_Model49\\\\\n",
       "\t 50 & rmse & standard & 1.715247e+04 & 5 & 5.236844e+03 & Preprocessor1\\_Model50\\\\\n",
       "\t 50 & rsq  & standard & 3.531760e-01 & 5 & 8.479045e-02 & Preprocessor1\\_Model50\\\\\n",
       "\\end{tabular}\n"
      ],
      "text/markdown": [
       "\n",
       "A tibble: 100 × 7\n",
       "\n",
       "| neighbors &lt;int&gt; | .metric &lt;chr&gt; | .estimator &lt;chr&gt; | mean &lt;dbl&gt; | n &lt;int&gt; | std_err &lt;dbl&gt; | .config &lt;chr&gt; |\n",
       "|---|---|---|---|---|---|---|\n",
       "| 1 | rmse | standard | 6409.9458990 | 5 | 1.971516e+03 | Preprocessor1_Model01 |\n",
       "| 1 | rsq  | standard |    0.7759743 | 5 | 9.880043e-02 | Preprocessor1_Model01 |\n",
       "| 2 | rmse | standard | 6471.9870691 | 5 | 2.154208e+03 | Preprocessor1_Model02 |\n",
       "| ⋮ | ⋮ | ⋮ | ⋮ | ⋮ | ⋮ | ⋮ |\n",
       "| 49 | rsq  | standard | 3.514544e-01 | 5 | 8.330297e-02 | Preprocessor1_Model49 |\n",
       "| 50 | rmse | standard | 1.715247e+04 | 5 | 5.236844e+03 | Preprocessor1_Model50 |\n",
       "| 50 | rsq  | standard | 3.531760e-01 | 5 | 8.479045e-02 | Preprocessor1_Model50 |\n",
       "\n"
      ],
      "text/plain": [
       "    neighbors .metric .estimator mean         n std_err     \n",
       "1   1         rmse    standard   6409.9458990 5 1.971516e+03\n",
       "2   1         rsq     standard      0.7759743 5 9.880043e-02\n",
       "3   2         rmse    standard   6471.9870691 5 2.154208e+03\n",
       "⋮   ⋮         ⋮       ⋮          ⋮            ⋮ ⋮           \n",
       "98  49        rsq     standard   3.514544e-01 5 8.330297e-02\n",
       "99  50        rmse    standard   1.715247e+04 5 5.236844e+03\n",
       "100 50        rsq     standard   3.531760e-01 5 8.479045e-02\n",
       "    .config              \n",
       "1   Preprocessor1_Model01\n",
       "2   Preprocessor1_Model01\n",
       "3   Preprocessor1_Model02\n",
       "⋮   ⋮                    \n",
       "98  Preprocessor1_Model49\n",
       "99  Preprocessor1_Model50\n",
       "100 Preprocessor1_Model50"
      ]
     },
     "metadata": {},
     "output_type": "display_data"
    }
   ],
   "source": [
    "#knn regression metrics\n",
    "\n",
    "gridvals<-tibble(neighbors = seq(1, 50))\n",
    "\n",
    "players_results<- players_fit|>\n",
    "    tune_grid(resamples = players_vfold, grid = gridvals)|>\n",
    "    collect_metrics()\n",
    "players_results\n"
   ]
  },
  {
   "cell_type": "code",
   "execution_count": 28,
   "id": "4fc082b4-4bfa-40b1-b86b-4f5dfa45675a",
   "metadata": {},
   "outputs": [
    {
     "data": {
      "text/html": [
       "<table class=\"dataframe\">\n",
       "<caption>A tibble: 1 × 7</caption>\n",
       "<thead>\n",
       "\t<tr><th scope=col>neighbors</th><th scope=col>.metric</th><th scope=col>.estimator</th><th scope=col>mean</th><th scope=col>n</th><th scope=col>std_err</th><th scope=col>.config</th></tr>\n",
       "\t<tr><th scope=col>&lt;int&gt;</th><th scope=col>&lt;chr&gt;</th><th scope=col>&lt;chr&gt;</th><th scope=col>&lt;dbl&gt;</th><th scope=col>&lt;int&gt;</th><th scope=col>&lt;dbl&gt;</th><th scope=col>&lt;chr&gt;</th></tr>\n",
       "</thead>\n",
       "<tbody>\n",
       "\t<tr><td>3</td><td>rmse</td><td>standard</td><td>5773.366</td><td>5</td><td>1781.971</td><td>Preprocessor1_Model03</td></tr>\n",
       "</tbody>\n",
       "</table>\n"
      ],
      "text/latex": [
       "A tibble: 1 × 7\n",
       "\\begin{tabular}{lllllll}\n",
       " neighbors & .metric & .estimator & mean & n & std\\_err & .config\\\\\n",
       " <int> & <chr> & <chr> & <dbl> & <int> & <dbl> & <chr>\\\\\n",
       "\\hline\n",
       "\t 3 & rmse & standard & 5773.366 & 5 & 1781.971 & Preprocessor1\\_Model03\\\\\n",
       "\\end{tabular}\n"
      ],
      "text/markdown": [
       "\n",
       "A tibble: 1 × 7\n",
       "\n",
       "| neighbors &lt;int&gt; | .metric &lt;chr&gt; | .estimator &lt;chr&gt; | mean &lt;dbl&gt; | n &lt;int&gt; | std_err &lt;dbl&gt; | .config &lt;chr&gt; |\n",
       "|---|---|---|---|---|---|---|\n",
       "| 3 | rmse | standard | 5773.366 | 5 | 1781.971 | Preprocessor1_Model03 |\n",
       "\n"
      ],
      "text/plain": [
       "  neighbors .metric .estimator mean     n std_err  .config              \n",
       "1 3         rmse    standard   5773.366 5 1781.971 Preprocessor1_Model03"
      ]
     },
     "metadata": {},
     "output_type": "display_data"
    }
   ],
   "source": [
    "#arranging metrics \n",
    "\n",
    "players_min<-players_results|>\n",
    "    filter(.metric == \"rmse\")|>\n",
    "    arrange(mean)|>\n",
    "    slice(1)\n",
    "players_min\n"
   ]
  },
  {
   "cell_type": "code",
   "execution_count": 29,
   "id": "f44df0fa-1627-423e-8a8a-b14b711cd55d",
   "metadata": {},
   "outputs": [
    {
     "data": {
      "text/html": [
       "<table class=\"dataframe\">\n",
       "<caption>A tibble: 100 × 7</caption>\n",
       "<thead>\n",
       "\t<tr><th scope=col>neighbors</th><th scope=col>.metric</th><th scope=col>.estimator</th><th scope=col>mean</th><th scope=col>n</th><th scope=col>std_err</th><th scope=col>.config</th></tr>\n",
       "\t<tr><th scope=col>&lt;int&gt;</th><th scope=col>&lt;chr&gt;</th><th scope=col>&lt;chr&gt;</th><th scope=col>&lt;dbl&gt;</th><th scope=col>&lt;int&gt;</th><th scope=col>&lt;dbl&gt;</th><th scope=col>&lt;chr&gt;</th></tr>\n",
       "</thead>\n",
       "<tbody>\n",
       "\t<tr><td>1</td><td>rmse</td><td>standard</td><td>6409.9458990</td><td>5</td><td>1.971516e+03</td><td>Preprocessor1_Model01</td></tr>\n",
       "\t<tr><td>1</td><td>rsq </td><td>standard</td><td>   0.7759743</td><td>5</td><td>9.880043e-02</td><td>Preprocessor1_Model01</td></tr>\n",
       "\t<tr><td>2</td><td>rmse</td><td>standard</td><td>6471.9870691</td><td>5</td><td>2.154208e+03</td><td>Preprocessor1_Model02</td></tr>\n",
       "\t<tr><td>⋮</td><td>⋮</td><td>⋮</td><td>⋮</td><td>⋮</td><td>⋮</td><td>⋮</td></tr>\n",
       "\t<tr><td>49</td><td>rsq </td><td>standard</td><td>3.514544e-01</td><td>5</td><td>8.330297e-02</td><td>Preprocessor1_Model49</td></tr>\n",
       "\t<tr><td>50</td><td>rmse</td><td>standard</td><td>1.715247e+04</td><td>5</td><td>5.236844e+03</td><td>Preprocessor1_Model50</td></tr>\n",
       "\t<tr><td>50</td><td>rsq </td><td>standard</td><td>3.531760e-01</td><td>5</td><td>8.479045e-02</td><td>Preprocessor1_Model50</td></tr>\n",
       "</tbody>\n",
       "</table>\n"
      ],
      "text/latex": [
       "A tibble: 100 × 7\n",
       "\\begin{tabular}{lllllll}\n",
       " neighbors & .metric & .estimator & mean & n & std\\_err & .config\\\\\n",
       " <int> & <chr> & <chr> & <dbl> & <int> & <dbl> & <chr>\\\\\n",
       "\\hline\n",
       "\t 1 & rmse & standard & 6409.9458990 & 5 & 1.971516e+03 & Preprocessor1\\_Model01\\\\\n",
       "\t 1 & rsq  & standard &    0.7759743 & 5 & 9.880043e-02 & Preprocessor1\\_Model01\\\\\n",
       "\t 2 & rmse & standard & 6471.9870691 & 5 & 2.154208e+03 & Preprocessor1\\_Model02\\\\\n",
       "\t ⋮ & ⋮ & ⋮ & ⋮ & ⋮ & ⋮ & ⋮\\\\\n",
       "\t 49 & rsq  & standard & 3.514544e-01 & 5 & 8.330297e-02 & Preprocessor1\\_Model49\\\\\n",
       "\t 50 & rmse & standard & 1.715247e+04 & 5 & 5.236844e+03 & Preprocessor1\\_Model50\\\\\n",
       "\t 50 & rsq  & standard & 3.531760e-01 & 5 & 8.479045e-02 & Preprocessor1\\_Model50\\\\\n",
       "\\end{tabular}\n"
      ],
      "text/markdown": [
       "\n",
       "A tibble: 100 × 7\n",
       "\n",
       "| neighbors &lt;int&gt; | .metric &lt;chr&gt; | .estimator &lt;chr&gt; | mean &lt;dbl&gt; | n &lt;int&gt; | std_err &lt;dbl&gt; | .config &lt;chr&gt; |\n",
       "|---|---|---|---|---|---|---|\n",
       "| 1 | rmse | standard | 6409.9458990 | 5 | 1.971516e+03 | Preprocessor1_Model01 |\n",
       "| 1 | rsq  | standard |    0.7759743 | 5 | 9.880043e-02 | Preprocessor1_Model01 |\n",
       "| 2 | rmse | standard | 6471.9870691 | 5 | 2.154208e+03 | Preprocessor1_Model02 |\n",
       "| ⋮ | ⋮ | ⋮ | ⋮ | ⋮ | ⋮ | ⋮ |\n",
       "| 49 | rsq  | standard | 3.514544e-01 | 5 | 8.330297e-02 | Preprocessor1_Model49 |\n",
       "| 50 | rmse | standard | 1.715247e+04 | 5 | 5.236844e+03 | Preprocessor1_Model50 |\n",
       "| 50 | rsq  | standard | 3.531760e-01 | 5 | 8.479045e-02 | Preprocessor1_Model50 |\n",
       "\n"
      ],
      "text/plain": [
       "    neighbors .metric .estimator mean         n std_err     \n",
       "1   1         rmse    standard   6409.9458990 5 1.971516e+03\n",
       "2   1         rsq     standard      0.7759743 5 9.880043e-02\n",
       "3   2         rmse    standard   6471.9870691 5 2.154208e+03\n",
       "⋮   ⋮         ⋮       ⋮          ⋮            ⋮ ⋮           \n",
       "98  49        rsq     standard   3.514544e-01 5 8.330297e-02\n",
       "99  50        rmse    standard   1.715247e+04 5 5.236844e+03\n",
       "100 50        rsq     standard   3.531760e-01 5 8.479045e-02\n",
       "    .config              \n",
       "1   Preprocessor1_Model01\n",
       "2   Preprocessor1_Model01\n",
       "3   Preprocessor1_Model02\n",
       "⋮   ⋮                    \n",
       "98  Preprocessor1_Model49\n",
       "99  Preprocessor1_Model50\n",
       "100 Preprocessor1_Model50"
      ]
     },
     "metadata": {},
     "output_type": "display_data"
    }
   ],
   "source": [
    "players_results"
   ]
  },
  {
   "cell_type": "code",
   "execution_count": 30,
   "id": "88f7abb1-b771-431d-ae10-f7d266c79cdc",
   "metadata": {},
   "outputs": [
    {
     "data": {
      "image/png": "[encoded data removed]",
      "text/plain": [
       "plot without title"
      ]
     },
     "metadata": {
      "image/png": {
       "height": 480,
       "width": 720
      }
     },
     "output_type": "display_data"
    }
   ],
   "source": [
    "#plot to find best k value \n",
    "\n",
    "best_k_plot<-players_results|>\n",
    "    filter(.metric == \"rmse\")|>\n",
    "    ggplot(aes(x = neighbors, y = mean))+\n",
    "    geom_point()+\n",
    "    geom_line()+\n",
    "    labs(x = \"K Value\", y = \"Root Mean Squared Error\")\n",
    "best_k_plot"
   ]
  },
  {
   "cell_type": "code",
   "execution_count": 31,
   "id": "3397fc0b-3a8b-4226-a619-f5c5ba4f9f6c",
   "metadata": {},
   "outputs": [
    {
     "data": {
      "text/html": [
       "3"
      ],
      "text/latex": [
       "3"
      ],
      "text/markdown": [
       "3"
      ],
      "text/plain": [
       "[1] 3"
      ]
     },
     "metadata": {},
     "output_type": "display_data"
    }
   ],
   "source": [
    "# best k (lowest rmse value)\n",
    "best_k<-players_min|>\n",
    "    pull(1)\n",
    "best_k\n"
   ]
  },
  {
   "cell_type": "code",
   "execution_count": 32,
   "id": "c9ec19dd-a2d8-4f30-afdd-8d6406b22ace",
   "metadata": {},
   "outputs": [
    {
     "data": {
      "text/html": [
       "20833.3369821275"
      ],
      "text/latex": [
       "20833.3369821275"
      ],
      "text/markdown": [
       "20833.3369821275"
      ],
      "text/plain": [
       "[1] 20833.34"
      ]
     },
     "metadata": {},
     "output_type": "display_data"
    }
   ],
   "source": [
    "# calculating rmse for training set\n",
    "\n",
    "rmse_training<-players_fit|>\n",
    "    predict(players_training)|>\n",
    "    bind_cols(players_training)|>\n",
    "    metrics(truth = prize_money, estimate = .pred)|>\n",
    "    filter(.metric == \"rmse\")|>\n",
    "    select(.estimate)|>\n",
    "    pull()\n",
    "\n",
    "rmse_training"
   ]
  },
  {
   "cell_type": "code",
   "execution_count": 33,
   "id": "34ddb8ed-cb12-4704-9fef-76063c9282b8",
   "metadata": {},
   "outputs": [
    {
     "data": {
      "text/html": [
       "<table class=\"dataframe\">\n",
       "<caption>A tibble: 3 × 3</caption>\n",
       "<thead>\n",
       "\t<tr><th scope=col>.metric</th><th scope=col>.estimator</th><th scope=col>.estimate</th></tr>\n",
       "\t<tr><th scope=col>&lt;chr&gt;</th><th scope=col>&lt;chr&gt;</th><th scope=col>&lt;dbl&gt;</th></tr>\n",
       "</thead>\n",
       "<tbody>\n",
       "\t<tr><td>rmse</td><td>standard</td><td>3330.4563743</td></tr>\n",
       "\t<tr><td>rsq </td><td>standard</td><td>   0.7267618</td></tr>\n",
       "\t<tr><td>mae </td><td>standard</td><td>2269.9885667</td></tr>\n",
       "</tbody>\n",
       "</table>\n"
      ],
      "text/latex": [
       "A tibble: 3 × 3\n",
       "\\begin{tabular}{lll}\n",
       " .metric & .estimator & .estimate\\\\\n",
       " <chr> & <chr> & <dbl>\\\\\n",
       "\\hline\n",
       "\t rmse & standard & 3330.4563743\\\\\n",
       "\t rsq  & standard &    0.7267618\\\\\n",
       "\t mae  & standard & 2269.9885667\\\\\n",
       "\\end{tabular}\n"
      ],
      "text/markdown": [
       "\n",
       "A tibble: 3 × 3\n",
       "\n",
       "| .metric &lt;chr&gt; | .estimator &lt;chr&gt; | .estimate &lt;dbl&gt; |\n",
       "|---|---|---|\n",
       "| rmse | standard | 3330.4563743 |\n",
       "| rsq  | standard |    0.7267618 |\n",
       "| mae  | standard | 2269.9885667 |\n",
       "\n"
      ],
      "text/plain": [
       "  .metric .estimator .estimate   \n",
       "1 rmse    standard   3330.4563743\n",
       "2 rsq     standard      0.7267618\n",
       "3 mae     standard   2269.9885667"
      ]
     },
     "metadata": {},
     "output_type": "display_data"
    }
   ],
   "source": [
    "# retraining model on training set with best k,\n",
    "# and making predictions on testing data\n",
    "\n",
    "players_spec_best<-nearest_neighbor(weight_func = \"rectangular\", neighbors = best_k)|>\n",
    "    set_engine(\"kknn\")|>\n",
    "    set_mode(\"regression\")\n",
    "\n",
    "players_fit_best<-workflow()|>\n",
    "    add_recipe(players_recipe)|>\n",
    "    add_model(players_spec_best)|>\n",
    "    fit(data = players_training)\n",
    "\n",
    "players_summary<-players_fit_best|>\n",
    "    predict(players_testing)|>\n",
    "    bind_cols(players_testing)|>\n",
    "    metrics(truth = prize_money, estimate = .pred)\n",
    "\n",
    "players_summary\n"
   ]
  },
  {
   "cell_type": "code",
   "execution_count": 34,
   "id": "add48563-f5c0-40f6-b173-e32389699e34",
   "metadata": {},
   "outputs": [
    {
     "data": {
      "text/html": [
       "<table class=\"dataframe\">\n",
       "<caption>A tibble: 115 × 3</caption>\n",
       "<thead>\n",
       "\t<tr><th scope=col>.pred</th><th scope=col>prize_money</th><th scope=col>best_rank</th></tr>\n",
       "\t<tr><th scope=col>&lt;dbl&gt;</th><th scope=col>&lt;dbl&gt;</th><th scope=col>&lt;int&gt;</th></tr>\n",
       "</thead>\n",
       "<tbody>\n",
       "\t<tr><td>3191.001</td><td>1517.157</td><td>31</td></tr>\n",
       "\t<tr><td>2168.270</td><td>1285.541</td><td>47</td></tr>\n",
       "\t<tr><td>2323.144</td><td>1062.355</td><td>43</td></tr>\n",
       "\t<tr><td>⋮</td><td>⋮</td><td>⋮</td></tr>\n",
       "\t<tr><td>12858.49</td><td>14773.644</td><td>6</td></tr>\n",
       "\t<tr><td>12068.28</td><td> 8918.917</td><td>8</td></tr>\n",
       "\t<tr><td>18828.90</td><td>22132.368</td><td>4</td></tr>\n",
       "</tbody>\n",
       "</table>\n"
      ],
      "text/latex": [
       "A tibble: 115 × 3\n",
       "\\begin{tabular}{lll}\n",
       " .pred & prize\\_money & best\\_rank\\\\\n",
       " <dbl> & <dbl> & <int>\\\\\n",
       "\\hline\n",
       "\t 3191.001 & 1517.157 & 31\\\\\n",
       "\t 2168.270 & 1285.541 & 47\\\\\n",
       "\t 2323.144 & 1062.355 & 43\\\\\n",
       "\t ⋮ & ⋮ & ⋮\\\\\n",
       "\t 12858.49 & 14773.644 & 6\\\\\n",
       "\t 12068.28 &  8918.917 & 8\\\\\n",
       "\t 18828.90 & 22132.368 & 4\\\\\n",
       "\\end{tabular}\n"
      ],
      "text/markdown": [
       "\n",
       "A tibble: 115 × 3\n",
       "\n",
       "| .pred &lt;dbl&gt; | prize_money &lt;dbl&gt; | best_rank &lt;int&gt; |\n",
       "|---|---|---|\n",
       "| 3191.001 | 1517.157 | 31 |\n",
       "| 2168.270 | 1285.541 | 47 |\n",
       "| 2323.144 | 1062.355 | 43 |\n",
       "| ⋮ | ⋮ | ⋮ |\n",
       "| 12858.49 | 14773.644 | 6 |\n",
       "| 12068.28 |  8918.917 | 8 |\n",
       "| 18828.90 | 22132.368 | 4 |\n",
       "\n"
      ],
      "text/plain": [
       "    .pred    prize_money best_rank\n",
       "1   3191.001 1517.157    31       \n",
       "2   2168.270 1285.541    47       \n",
       "3   2323.144 1062.355    43       \n",
       "⋮   ⋮        ⋮           ⋮        \n",
       "113 12858.49 14773.644   6        \n",
       "114 12068.28  8918.917   8        \n",
       "115 18828.90 22132.368   4        "
      ]
     },
     "metadata": {},
     "output_type": "display_data"
    }
   ],
   "source": [
    "# summarizing knn predictions\n",
    "\n",
    "players_knn_preds<-players_fit_best|>\n",
    "    predict(players_training)|>\n",
    "    bind_cols(players_training)\n",
    "players_knn_preds"
   ]
  },
  {
   "cell_type": "code",
   "execution_count": 35,
   "id": "3cd092f7-a0f8-4605-9744-e7c01cb59b55",
   "metadata": {},
   "outputs": [
    {
     "data": {
      "text/html": [
       "3330.45637426879"
      ],
      "text/latex": [
       "3330.45637426879"
      ],
      "text/markdown": [
       "3330.45637426879"
      ],
      "text/plain": [
       "[1] 3330.456"
      ]
     },
     "metadata": {},
     "output_type": "display_data"
    }
   ],
   "source": [
    "# rmspe for testing set \n",
    "\n",
    "rmspe_testing<-players_summary|>\n",
    "    filter(.metric == \"rmse\")|>\n",
    "    select(.estimate)|>\n",
    "    pull()\n",
    "rmspe_testing"
   ]
  },
  {
   "cell_type": "markdown",
   "id": "438e78e5-2c2c-4fa9-a1be-7a73d8a150f2",
   "metadata": {},
   "source": [
    "  \n",
    "  \n",
    "  \n",
    "  \n",
    "  \n",
    "  \n",
    "  \n",
    "  \n",
    "  \n",
    "  "
   ]
  },
  {
   "cell_type": "markdown",
   "id": "9dafcfd2-1959-4615-a5da-64ca98fc0c70",
   "metadata": {},
   "source": [
    " "
   ]
  },
  {
   "cell_type": "markdown",
   "id": "753acf9e-7ccc-4524-8f31-c20127d57e3c",
   "metadata": {},
   "source": [
    " "
   ]
  },
  {
   "cell_type": "markdown",
   "id": "50e1234b-2cd3-4f9a-b6f5-68304e1c114b",
   "metadata": {},
   "source": [
    " "
   ]
  },
  {
   "cell_type": "markdown",
   "id": "3f7c6a36-872c-4c72-9709-fa1325026ec9",
   "metadata": {},
   "source": [
    " "
   ]
  },
  {
   "cell_type": "markdown",
   "id": "198cd01c-5456-4f3e-92b2-153653e82204",
   "metadata": {},
   "source": [
    "Linear Regression Model:"
   ]
  },
  {
   "cell_type": "code",
   "execution_count": 36,
   "id": "6fa40c7d-79cf-436f-82e7-515f86ffedbb",
   "metadata": {},
   "outputs": [
    {
     "data": {
      "text/html": [
       "<table class=\"dataframe\">\n",
       "<caption>A tibble: 155 × 2</caption>\n",
       "<thead>\n",
       "\t<tr><th scope=col>prize_money</th><th scope=col>best_rank</th></tr>\n",
       "\t<tr><th scope=col>&lt;dbl&gt;</th><th scope=col>&lt;int&gt;</th></tr>\n",
       "</thead>\n",
       "<tbody>\n",
       "\t<tr><td>3261.567</td><td>44</td></tr>\n",
       "\t<tr><td>6091.971</td><td>17</td></tr>\n",
       "\t<tr><td>1517.157</td><td>31</td></tr>\n",
       "\t<tr><td>⋮</td><td>⋮</td></tr>\n",
       "\t<tr><td> 1703.096</td><td>58</td></tr>\n",
       "\t<tr><td> 1048.314</td><td>74</td></tr>\n",
       "\t<tr><td>22132.368</td><td> 4</td></tr>\n",
       "</tbody>\n",
       "</table>\n"
      ],
      "text/latex": [
       "A tibble: 155 × 2\n",
       "\\begin{tabular}{ll}\n",
       " prize\\_money & best\\_rank\\\\\n",
       " <dbl> & <int>\\\\\n",
       "\\hline\n",
       "\t 3261.567 & 44\\\\\n",
       "\t 6091.971 & 17\\\\\n",
       "\t 1517.157 & 31\\\\\n",
       "\t ⋮ & ⋮\\\\\n",
       "\t  1703.096 & 58\\\\\n",
       "\t  1048.314 & 74\\\\\n",
       "\t 22132.368 &  4\\\\\n",
       "\\end{tabular}\n"
      ],
      "text/markdown": [
       "\n",
       "A tibble: 155 × 2\n",
       "\n",
       "| prize_money &lt;dbl&gt; | best_rank &lt;int&gt; |\n",
       "|---|---|\n",
       "| 3261.567 | 44 |\n",
       "| 6091.971 | 17 |\n",
       "| 1517.157 | 31 |\n",
       "| ⋮ | ⋮ |\n",
       "|  1703.096 | 58 |\n",
       "|  1048.314 | 74 |\n",
       "| 22132.368 |  4 |\n",
       "\n"
      ],
      "text/plain": [
       "    prize_money best_rank\n",
       "1   3261.567    44       \n",
       "2   6091.971    17       \n",
       "3   1517.157    31       \n",
       "⋮   ⋮           ⋮        \n",
       "153  1703.096   58       \n",
       "154  1048.314   74       \n",
       "155 22132.368    4       "
      ]
     },
     "metadata": {},
     "output_type": "display_data"
    }
   ],
   "source": [
    "players_tidy"
   ]
  },
  {
   "cell_type": "code",
   "execution_count": 19,
   "id": "7a2072c2-907f-4cd1-b284-d040ef3e730f",
   "metadata": {},
   "outputs": [
    {
     "data": {
      "text/html": [
       "<table class=\"dataframe\">\n",
       "<caption>A tibble: 115 × 2</caption>\n",
       "<thead>\n",
       "\t<tr><th scope=col>prize_money</th><th scope=col>best_rank</th></tr>\n",
       "\t<tr><th scope=col>&lt;dbl&gt;</th><th scope=col>&lt;int&gt;</th></tr>\n",
       "</thead>\n",
       "<tbody>\n",
       "\t<tr><td>1517.157</td><td>31</td></tr>\n",
       "\t<tr><td>1285.541</td><td>47</td></tr>\n",
       "\t<tr><td>1062.355</td><td>43</td></tr>\n",
       "\t<tr><td>⋮</td><td>⋮</td></tr>\n",
       "\t<tr><td>14773.64</td><td>6</td></tr>\n",
       "\t<tr><td>18879.85</td><td>3</td></tr>\n",
       "\t<tr><td>22132.37</td><td>4</td></tr>\n",
       "</tbody>\n",
       "</table>\n"
      ],
      "text/latex": [
       "A tibble: 115 × 2\n",
       "\\begin{tabular}{ll}\n",
       " prize\\_money & best\\_rank\\\\\n",
       " <dbl> & <int>\\\\\n",
       "\\hline\n",
       "\t 1517.157 & 31\\\\\n",
       "\t 1285.541 & 47\\\\\n",
       "\t 1062.355 & 43\\\\\n",
       "\t ⋮ & ⋮\\\\\n",
       "\t 14773.64 & 6\\\\\n",
       "\t 18879.85 & 3\\\\\n",
       "\t 22132.37 & 4\\\\\n",
       "\\end{tabular}\n"
      ],
      "text/markdown": [
       "\n",
       "A tibble: 115 × 2\n",
       "\n",
       "| prize_money &lt;dbl&gt; | best_rank &lt;int&gt; |\n",
       "|---|---|\n",
       "| 1517.157 | 31 |\n",
       "| 1285.541 | 47 |\n",
       "| 1062.355 | 43 |\n",
       "| ⋮ | ⋮ |\n",
       "| 14773.64 | 6 |\n",
       "| 18879.85 | 3 |\n",
       "| 22132.37 | 4 |\n",
       "\n"
      ],
      "text/plain": [
       "    prize_money best_rank\n",
       "1   1517.157    31       \n",
       "2   1285.541    47       \n",
       "3   1062.355    43       \n",
       "⋮   ⋮           ⋮        \n",
       "113 14773.64    6        \n",
       "114 18879.85    3        \n",
       "115 22132.37    4        "
      ]
     },
     "metadata": {},
     "output_type": "display_data"
    },
    {
     "data": {
      "text/html": [
       "<table class=\"dataframe\">\n",
       "<caption>A tibble: 40 × 2</caption>\n",
       "<thead>\n",
       "\t<tr><th scope=col>prize_money</th><th scope=col>best_rank</th></tr>\n",
       "\t<tr><th scope=col>&lt;dbl&gt;</th><th scope=col>&lt;int&gt;</th></tr>\n",
       "</thead>\n",
       "<tbody>\n",
       "\t<tr><td> 1893.476</td><td>17</td></tr>\n",
       "\t<tr><td>10507.693</td><td> 4</td></tr>\n",
       "\t<tr><td>25889.586</td><td> 3</td></tr>\n",
       "\t<tr><td>⋮</td><td>⋮</td></tr>\n",
       "\t<tr><td>8918.917</td><td> 8</td></tr>\n",
       "\t<tr><td>2013.015</td><td>84</td></tr>\n",
       "\t<tr><td>1048.314</td><td>74</td></tr>\n",
       "</tbody>\n",
       "</table>\n"
      ],
      "text/latex": [
       "A tibble: 40 × 2\n",
       "\\begin{tabular}{ll}\n",
       " prize\\_money & best\\_rank\\\\\n",
       " <dbl> & <int>\\\\\n",
       "\\hline\n",
       "\t  1893.476 & 17\\\\\n",
       "\t 10507.693 &  4\\\\\n",
       "\t 25889.586 &  3\\\\\n",
       "\t ⋮ & ⋮\\\\\n",
       "\t 8918.917 &  8\\\\\n",
       "\t 2013.015 & 84\\\\\n",
       "\t 1048.314 & 74\\\\\n",
       "\\end{tabular}\n"
      ],
      "text/markdown": [
       "\n",
       "A tibble: 40 × 2\n",
       "\n",
       "| prize_money &lt;dbl&gt; | best_rank &lt;int&gt; |\n",
       "|---|---|\n",
       "|  1893.476 | 17 |\n",
       "| 10507.693 |  4 |\n",
       "| 25889.586 |  3 |\n",
       "| ⋮ | ⋮ |\n",
       "| 8918.917 |  8 |\n",
       "| 2013.015 | 84 |\n",
       "| 1048.314 | 74 |\n",
       "\n"
      ],
      "text/plain": [
       "   prize_money best_rank\n",
       "1   1893.476   17       \n",
       "2  10507.693    4       \n",
       "3  25889.586    3       \n",
       "⋮  ⋮           ⋮        \n",
       "38 8918.917     8       \n",
       "39 2013.015    84       \n",
       "40 1048.314    74       "
      ]
     },
     "metadata": {},
     "output_type": "display_data"
    }
   ],
   "source": [
    "# splitting data for linear regression\n",
    "\n",
    "players_split_lm<-initial_split(players_tidy, prop = 0.75, strata = prize_money)\n",
    "players_training_lm<-training(players_split_lm)\n",
    "players_testing_lm<-testing(players_split_lm)\n",
    "\n",
    "players_training_lm\n",
    "players_testing_lm"
   ]
  },
  {
   "cell_type": "code",
   "execution_count": 20,
   "id": "f5cc3e54-204a-4b4d-be8e-29006d3f0402",
   "metadata": {},
   "outputs": [
    {
     "data": {
      "text/plain": [
       "Recipe\n",
       "\n",
       "Inputs:\n",
       "\n",
       "      role #variables\n",
       "   outcome          1\n",
       " predictor          1"
      ]
     },
     "metadata": {},
     "output_type": "display_data"
    }
   ],
   "source": [
    "# creating recipe and prepping model\n",
    "\n",
    "players_lm_spec<- linear_reg()|>\n",
    "    set_engine(\"lm\")|>\n",
    "    set_mode(\"regression\")\n",
    "\n",
    "players_lm_recipe<-recipe(prize_money ~ best_rank, data = players_training_lm)\n",
    "\n",
    "players_lm_recipe\n"
   ]
  },
  {
   "cell_type": "code",
   "execution_count": 21,
   "id": "fbe6fe03-1d48-4e8a-9ee1-9402778216e2",
   "metadata": {},
   "outputs": [
    {
     "data": {
      "text/plain": [
       "══ Workflow [trained] ══════════════════════════════════════════════════════════\n",
       "\u001b[3mPreprocessor:\u001b[23m Recipe\n",
       "\u001b[3mModel:\u001b[23m linear_reg()\n",
       "\n",
       "── Preprocessor ────────────────────────────────────────────────────────────────\n",
       "0 Recipe Steps\n",
       "\n",
       "── Model ───────────────────────────────────────────────────────────────────────\n",
       "\n",
       "Call:\n",
       "stats::lm(formula = ..y ~ ., data = data)\n",
       "\n",
       "Coefficients:\n",
       "(Intercept)    best_rank  \n",
       "      18659         -280  \n"
      ]
     },
     "metadata": {},
     "output_type": "display_data"
    }
   ],
   "source": [
    "# making lm workflow\n",
    "\n",
    "players_lm_fit<-workflow()|>\n",
    "    add_recipe(players_lm_recipe)|>\n",
    "    add_model(players_lm_spec)|>\n",
    "    fit(data = players_training_lm)\n",
    "players_lm_fit"
   ]
  },
  {
   "cell_type": "code",
   "execution_count": 22,
   "id": "c72f1b2e-4732-4e0e-8dbe-f6dda82887c5",
   "metadata": {},
   "outputs": [
    {
     "data": {
      "text/html": [
       "<table class=\"dataframe\">\n",
       "<caption>A tibble: 115 × 3</caption>\n",
       "<thead>\n",
       "\t<tr><th scope=col>.pred</th><th scope=col>prize_money</th><th scope=col>best_rank</th></tr>\n",
       "\t<tr><th scope=col>&lt;dbl&gt;</th><th scope=col>&lt;dbl&gt;</th><th scope=col>&lt;int&gt;</th></tr>\n",
       "</thead>\n",
       "<tbody>\n",
       "\t<tr><td>9978.776</td><td>1517.157</td><td>31</td></tr>\n",
       "\t<tr><td>5498.447</td><td>1285.541</td><td>47</td></tr>\n",
       "\t<tr><td>6618.529</td><td>1062.355</td><td>43</td></tr>\n",
       "\t<tr><td>⋮</td><td>⋮</td><td>⋮</td></tr>\n",
       "\t<tr><td>16979.29</td><td>14773.64</td><td>6</td></tr>\n",
       "\t<tr><td>17819.35</td><td>18879.85</td><td>3</td></tr>\n",
       "\t<tr><td>17539.33</td><td>22132.37</td><td>4</td></tr>\n",
       "</tbody>\n",
       "</table>\n"
      ],
      "text/latex": [
       "A tibble: 115 × 3\n",
       "\\begin{tabular}{lll}\n",
       " .pred & prize\\_money & best\\_rank\\\\\n",
       " <dbl> & <dbl> & <int>\\\\\n",
       "\\hline\n",
       "\t 9978.776 & 1517.157 & 31\\\\\n",
       "\t 5498.447 & 1285.541 & 47\\\\\n",
       "\t 6618.529 & 1062.355 & 43\\\\\n",
       "\t ⋮ & ⋮ & ⋮\\\\\n",
       "\t 16979.29 & 14773.64 & 6\\\\\n",
       "\t 17819.35 & 18879.85 & 3\\\\\n",
       "\t 17539.33 & 22132.37 & 4\\\\\n",
       "\\end{tabular}\n"
      ],
      "text/markdown": [
       "\n",
       "A tibble: 115 × 3\n",
       "\n",
       "| .pred &lt;dbl&gt; | prize_money &lt;dbl&gt; | best_rank &lt;int&gt; |\n",
       "|---|---|---|\n",
       "| 9978.776 | 1517.157 | 31 |\n",
       "| 5498.447 | 1285.541 | 47 |\n",
       "| 6618.529 | 1062.355 | 43 |\n",
       "| ⋮ | ⋮ | ⋮ |\n",
       "| 16979.29 | 14773.64 | 6 |\n",
       "| 17819.35 | 18879.85 | 3 |\n",
       "| 17539.33 | 22132.37 | 4 |\n",
       "\n"
      ],
      "text/plain": [
       "    .pred    prize_money best_rank\n",
       "1   9978.776 1517.157    31       \n",
       "2   5498.447 1285.541    47       \n",
       "3   6618.529 1062.355    43       \n",
       "⋮   ⋮        ⋮           ⋮        \n",
       "113 16979.29 14773.64    6        \n",
       "114 17819.35 18879.85    3        \n",
       "115 17539.33 22132.37    4        "
      ]
     },
     "metadata": {},
     "output_type": "display_data"
    }
   ],
   "source": [
    "# summarizing lm predictions\n",
    "\n",
    "players_lm_preds<- players_lm_fit|>\n",
    "    predict(players_training_lm)|>\n",
    "    bind_cols(players_training_lm)\n",
    "\n",
    "players_lm_preds"
   ]
  },
  {
   "cell_type": "code",
   "execution_count": 23,
   "id": "5f077377-85d6-4a71-beb8-2f7b323dc8b6",
   "metadata": {},
   "outputs": [
    {
     "data": {
      "text/html": [
       "16415.3885061799"
      ],
      "text/latex": [
       "16415.3885061799"
      ],
      "text/markdown": [
       "16415.3885061799"
      ],
      "text/plain": [
       "[1] 16415.39"
      ]
     },
     "metadata": {},
     "output_type": "display_data"
    }
   ],
   "source": [
    "# calculating training rmse\n",
    "\n",
    "players_lm_rmse<-players_lm_fit|>\n",
    "    predict(players_training_lm)|>\n",
    "    bind_cols(players_training_lm)|>\n",
    "    metrics(truth = prize_money, estimate = .pred)|>\n",
    "    filter(.metric == \"rmse\")|>\n",
    "    select(.estimate)|>\n",
    "    pull()\n",
    "players_lm_rmse"
   ]
  },
  {
   "cell_type": "code",
   "execution_count": 24,
   "id": "96a4def4-7541-4197-91ee-c30eeb035786",
   "metadata": {},
   "outputs": [
    {
     "data": {
      "text/html": [
       "<table class=\"dataframe\">\n",
       "<caption>A tibble: 3 × 3</caption>\n",
       "<thead>\n",
       "\t<tr><th scope=col>.metric</th><th scope=col>.estimator</th><th scope=col>.estimate</th></tr>\n",
       "\t<tr><th scope=col>&lt;chr&gt;</th><th scope=col>&lt;chr&gt;</th><th scope=col>&lt;dbl&gt;</th></tr>\n",
       "</thead>\n",
       "<tbody>\n",
       "\t<tr><td>rmse</td><td>standard</td><td>18369.562324</td></tr>\n",
       "\t<tr><td>rsq </td><td>standard</td><td>    0.167294</td></tr>\n",
       "\t<tr><td>mae </td><td>standard</td><td> 7303.573966</td></tr>\n",
       "</tbody>\n",
       "</table>\n"
      ],
      "text/latex": [
       "A tibble: 3 × 3\n",
       "\\begin{tabular}{lll}\n",
       " .metric & .estimator & .estimate\\\\\n",
       " <chr> & <chr> & <dbl>\\\\\n",
       "\\hline\n",
       "\t rmse & standard & 18369.562324\\\\\n",
       "\t rsq  & standard &     0.167294\\\\\n",
       "\t mae  & standard &  7303.573966\\\\\n",
       "\\end{tabular}\n"
      ],
      "text/markdown": [
       "\n",
       "A tibble: 3 × 3\n",
       "\n",
       "| .metric &lt;chr&gt; | .estimator &lt;chr&gt; | .estimate &lt;dbl&gt; |\n",
       "|---|---|---|\n",
       "| rmse | standard | 18369.562324 |\n",
       "| rsq  | standard |     0.167294 |\n",
       "| mae  | standard |  7303.573966 |\n",
       "\n"
      ],
      "text/plain": [
       "  .metric .estimator .estimate   \n",
       "1 rmse    standard   18369.562324\n",
       "2 rsq     standard       0.167294\n",
       "3 mae     standard    7303.573966"
      ]
     },
     "metadata": {},
     "output_type": "display_data"
    }
   ],
   "source": [
    "# summarizing testing predictions \n",
    "\n",
    "players_lm_summary<-players_lm_fit|>\n",
    "    predict(players_testing_lm)|>\n",
    "    bind_cols(players_testing_lm)|>\n",
    "    metrics(truth = prize_money, estimate = .pred)\n",
    "players_lm_summary"
   ]
  },
  {
   "cell_type": "code",
   "execution_count": 25,
   "id": "1732e543-bd36-4816-b143-eeafdf072fa8",
   "metadata": {},
   "outputs": [
    {
     "data": {
      "text/html": [
       "18369.5623235389"
      ],
      "text/latex": [
       "18369.5623235389"
      ],
      "text/markdown": [
       "18369.5623235389"
      ],
      "text/plain": [
       "[1] 18369.56"
      ]
     },
     "metadata": {},
     "output_type": "display_data"
    }
   ],
   "source": [
    "# calculating testing rmspe \n",
    "\n",
    "players_lm_rmspe<-players_lm_summary|>\n",
    "    filter(.metric == \"rmse\")|>\n",
    "    select(.estimate)|>\n",
    "    pull()\n",
    "players_lm_rmspe"
   ]
  },
  {
   "cell_type": "markdown",
   "id": "6ba1e3fd-9e36-4827-a4f5-440a951e7a6e",
   "metadata": {},
   "source": [
    " "
   ]
  },
  {
   "cell_type": "markdown",
   "id": "3ec39a4d-d725-410d-993a-2ca9335f7400",
   "metadata": {},
   "source": [
    " "
   ]
  },
  {
   "cell_type": "markdown",
   "id": "bb85d279-72cf-46f1-8481-711f35e2bad2",
   "metadata": {},
   "source": [
    " "
   ]
  },
  {
   "cell_type": "markdown",
   "id": "d8796f95-ae36-4c1f-84ea-3a8792d7ee3f",
   "metadata": {},
   "source": [
    " "
   ]
  },
  {
   "cell_type": "markdown",
   "id": "57d6fabb-246d-4eed-bc23-968766ff362d",
   "metadata": {},
   "source": [
    "Linear Regression RMSPE is 7268.89, K-NN Rgegression RMSPE is 3858.99. Therefore, for this data, the KNN model works better (results in a smaller error)."
   ]
  },
  {
   "cell_type": "code",
   "execution_count": 26,
   "id": "fd437fbb-cba7-4153-9736-0d1759b4cbc8",
   "metadata": {},
   "outputs": [
    {
     "data": {
      "text/html": [
       "<table class=\"dataframe\">\n",
       "<caption>A tibble: 115 × 3</caption>\n",
       "<thead>\n",
       "\t<tr><th scope=col>.pred</th><th scope=col>prize_money</th><th scope=col>best_rank</th></tr>\n",
       "\t<tr><th scope=col>&lt;dbl&gt;</th><th scope=col>&lt;dbl&gt;</th><th scope=col>&lt;int&gt;</th></tr>\n",
       "</thead>\n",
       "<tbody>\n",
       "\t<tr><td>3191.001</td><td>1517.157</td><td>31</td></tr>\n",
       "\t<tr><td>2168.270</td><td>1285.541</td><td>47</td></tr>\n",
       "\t<tr><td>2323.144</td><td>1062.355</td><td>43</td></tr>\n",
       "\t<tr><td>⋮</td><td>⋮</td><td>⋮</td></tr>\n",
       "\t<tr><td>12858.49</td><td>14773.644</td><td>6</td></tr>\n",
       "\t<tr><td>12068.28</td><td> 8918.917</td><td>8</td></tr>\n",
       "\t<tr><td>18828.90</td><td>22132.368</td><td>4</td></tr>\n",
       "</tbody>\n",
       "</table>\n"
      ],
      "text/latex": [
       "A tibble: 115 × 3\n",
       "\\begin{tabular}{lll}\n",
       " .pred & prize\\_money & best\\_rank\\\\\n",
       " <dbl> & <dbl> & <int>\\\\\n",
       "\\hline\n",
       "\t 3191.001 & 1517.157 & 31\\\\\n",
       "\t 2168.270 & 1285.541 & 47\\\\\n",
       "\t 2323.144 & 1062.355 & 43\\\\\n",
       "\t ⋮ & ⋮ & ⋮\\\\\n",
       "\t 12858.49 & 14773.644 & 6\\\\\n",
       "\t 12068.28 &  8918.917 & 8\\\\\n",
       "\t 18828.90 & 22132.368 & 4\\\\\n",
       "\\end{tabular}\n"
      ],
      "text/markdown": [
       "\n",
       "A tibble: 115 × 3\n",
       "\n",
       "| .pred &lt;dbl&gt; | prize_money &lt;dbl&gt; | best_rank &lt;int&gt; |\n",
       "|---|---|---|\n",
       "| 3191.001 | 1517.157 | 31 |\n",
       "| 2168.270 | 1285.541 | 47 |\n",
       "| 2323.144 | 1062.355 | 43 |\n",
       "| ⋮ | ⋮ | ⋮ |\n",
       "| 12858.49 | 14773.644 | 6 |\n",
       "| 12068.28 |  8918.917 | 8 |\n",
       "| 18828.90 | 22132.368 | 4 |\n",
       "\n"
      ],
      "text/plain": [
       "    .pred    prize_money best_rank\n",
       "1   3191.001 1517.157    31       \n",
       "2   2168.270 1285.541    47       \n",
       "3   2323.144 1062.355    43       \n",
       "⋮   ⋮        ⋮           ⋮        \n",
       "113 12858.49 14773.644   6        \n",
       "114 12068.28  8918.917   8        \n",
       "115 18828.90 22132.368   4        "
      ]
     },
     "metadata": {},
     "output_type": "display_data"
    },
    {
     "data": {
      "text/html": [
       "<table class=\"dataframe\">\n",
       "<caption>A tibble: 115 × 3</caption>\n",
       "<thead>\n",
       "\t<tr><th scope=col>.pred</th><th scope=col>prize_money</th><th scope=col>best_rank</th></tr>\n",
       "\t<tr><th scope=col>&lt;dbl&gt;</th><th scope=col>&lt;dbl&gt;</th><th scope=col>&lt;int&gt;</th></tr>\n",
       "</thead>\n",
       "<tbody>\n",
       "\t<tr><td>9978.776</td><td>1517.157</td><td>31</td></tr>\n",
       "\t<tr><td>5498.447</td><td>1285.541</td><td>47</td></tr>\n",
       "\t<tr><td>6618.529</td><td>1062.355</td><td>43</td></tr>\n",
       "\t<tr><td>⋮</td><td>⋮</td><td>⋮</td></tr>\n",
       "\t<tr><td>16979.29</td><td>14773.64</td><td>6</td></tr>\n",
       "\t<tr><td>17819.35</td><td>18879.85</td><td>3</td></tr>\n",
       "\t<tr><td>17539.33</td><td>22132.37</td><td>4</td></tr>\n",
       "</tbody>\n",
       "</table>\n"
      ],
      "text/latex": [
       "A tibble: 115 × 3\n",
       "\\begin{tabular}{lll}\n",
       " .pred & prize\\_money & best\\_rank\\\\\n",
       " <dbl> & <dbl> & <int>\\\\\n",
       "\\hline\n",
       "\t 9978.776 & 1517.157 & 31\\\\\n",
       "\t 5498.447 & 1285.541 & 47\\\\\n",
       "\t 6618.529 & 1062.355 & 43\\\\\n",
       "\t ⋮ & ⋮ & ⋮\\\\\n",
       "\t 16979.29 & 14773.64 & 6\\\\\n",
       "\t 17819.35 & 18879.85 & 3\\\\\n",
       "\t 17539.33 & 22132.37 & 4\\\\\n",
       "\\end{tabular}\n"
      ],
      "text/markdown": [
       "\n",
       "A tibble: 115 × 3\n",
       "\n",
       "| .pred &lt;dbl&gt; | prize_money &lt;dbl&gt; | best_rank &lt;int&gt; |\n",
       "|---|---|---|\n",
       "| 9978.776 | 1517.157 | 31 |\n",
       "| 5498.447 | 1285.541 | 47 |\n",
       "| 6618.529 | 1062.355 | 43 |\n",
       "| ⋮ | ⋮ | ⋮ |\n",
       "| 16979.29 | 14773.64 | 6 |\n",
       "| 17819.35 | 18879.85 | 3 |\n",
       "| 17539.33 | 22132.37 | 4 |\n",
       "\n"
      ],
      "text/plain": [
       "    .pred    prize_money best_rank\n",
       "1   9978.776 1517.157    31       \n",
       "2   5498.447 1285.541    47       \n",
       "3   6618.529 1062.355    43       \n",
       "⋮   ⋮        ⋮           ⋮        \n",
       "113 16979.29 14773.64    6        \n",
       "114 17819.35 18879.85    3        \n",
       "115 17539.33 22132.37    4        "
      ]
     },
     "metadata": {},
     "output_type": "display_data"
    }
   ],
   "source": [
    "players_knn_preds\n",
    "players_lm_preds"
   ]
  },
  {
   "cell_type": "markdown",
   "id": "b4d11449-2ce1-4069-9ead-4433ebe2d3a5",
   "metadata": {},
   "source": [
    " "
   ]
  },
  {
   "cell_type": "code",
   "execution_count": 27,
   "id": "5d52e179-48e0-4098-864c-c280912c9ae9",
   "metadata": {},
   "outputs": [
    {
     "name": "stderr",
     "output_type": "stream",
     "text": [
      "Warning message:\n",
      "“Removed 5 rows containing missing values (geom_point).”\n",
      "Warning message:\n",
      "“Removed 4 row(s) containing missing values (geom_path).”\n",
      "Warning message:\n",
      "“Removed 16 row(s) containing missing values (geom_path).”\n"
     ]
    },
    {
     "data": {
      "image/png": "[encoded data removed]",
      "text/plain": [
       "plot without title"
      ]
     },
     "metadata": {
      "image/png": {
       "height": 480,
       "width": 720
      }
     },
     "output_type": "display_data"
    }
   ],
   "source": [
    "# overlaying plots of KNN and linear regression predictions onto true training sets.\n",
    "options(repr.plot.width = 12, repr.plot.height = 8)\n",
    "\n",
    "knn_vs_linear_plot<-ggplot(data = players_knn_preds, aes(x = best_rank, y = prize_money))+\n",
    "    geom_point()+\n",
    "    labs(x = \"Best Rank Achieved\", y = \"Total Prize Money\")+\n",
    "    ylim(0,30000)+\n",
    "    xlim(0,125)+\n",
    "    geom_line(data = players_knn_preds, aes(x = best_rank, y = .pred, colour = \"KNN Model\"))+\n",
    "    geom_line(data = players_lm_preds, aes(x = best_rank, y = .pred, colour = \"Linear Model\"))+\n",
    "    labs(colour = \"Type of Regression Model\")+\n",
    "    ggtitle(\"Comparison of Linear Vs KNN Regression Models\")+\n",
    "    theme(text = element_text(size = 20))\n",
    "knn_vs_linear_plot\n",
    "\n"
   ]
  },
  {
   "cell_type": "code",
   "execution_count": null,
   "id": "d5f78c4f-8624-4dea-9e28-55068fe01e58",
   "metadata": {},
   "outputs": [],
   "source": []
  }
 ],
 "metadata": {
  "kernelspec": {
   "display_name": "R",
   "language": "R",
   "name": "ir"
  },
  "language_info": {
   "codemirror_mode": "r",
   "file_extension": ".r",
   "mimetype": "text/x-r-source",
   "name": "R",
   "pygments_lexer": "r",
   "version": "4.1.3"
  }
 },
 "nbformat": 4,
 "nbformat_minor": 5
}

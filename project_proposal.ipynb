{
 "cells": [
  {
   "cell_type": "markdown",
   "id": "009a65a2-46b3-4a58-bb6f-3d9e6032f4a2",
   "metadata": {},
   "source": [
    "PROJECT PROPOSAL"
   ]
  },
  {
   "cell_type": "code",
   "execution_count": null,
   "id": "bb21af28-6d65-48f0-982a-6ce5960fe446",
   "metadata": {},
   "outputs": [],
   "source": []
  }
 ],
 "metadata": {
  "kernelspec": {
   "display_name": "R",
   "language": "R",
   "name": "ir"
  },
  "language_info": {
   "codemirror_mode": "r",
   "file_extension": ".r",
   "mimetype": "text/x-r-source",
   "name": "R",
   "pygments_lexer": "r",
   "version": "4.1.3"
  }
 },
 "nbformat": 4,
 "nbformat_minor": 5
}
